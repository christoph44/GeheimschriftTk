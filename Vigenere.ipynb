{
 "cells": [
  {
   "cell_type": "markdown",
   "metadata": {},
   "source": [
    "## Vigenere Codierung\n"
   ]
  },
  {
   "cell_type": "code",
   "execution_count": 1,
   "metadata": {
    "collapsed": true
   },
   "outputs": [],
   "source": [
    "alphabet = \"ABCDEFGHIJKLMNOPQRSTUVWXYZ\""
   ]
  },
  {
   "cell_type": "code",
   "execution_count": 2,
   "metadata": {},
   "outputs": [
    {
     "name": "stdout",
     "output_type": "stream",
     "text": [
      "[C]odieren/[D]ecodieren? C\n"
     ]
    }
   ],
   "source": [
    "richtung = input(\"[C]odieren/[D]ecodieren? \")\n",
    "richtung = richtung.upper()"
   ]
  },
  {
   "cell_type": "code",
   "execution_count": null,
   "metadata": {
    "collapsed": true
   },
   "outputs": [],
   "source": [
    "botschaft = input(\"Deine Botschaft: \")"
   ]
  },
  {
   "cell_type": "code",
   "execution_count": null,
   "metadata": {
    "collapsed": true
   },
   "outputs": [],
   "source": [
    "schluesselwort = input(\"Dein Schlüsselwort: \")"
   ]
  },
  {
   "cell_type": "code",
   "execution_count": null,
   "metadata": {
    "collapsed": true
   },
   "outputs": [],
   "source": [
    "botschaft = botschaft.upper()\n",
    "schluesselwort = schluesselwort.upper()\n",
    "print(botschaft)\n",
    "print(schluesselwort)"
   ]
  },
  {
   "cell_type": "code",
   "execution_count": null,
   "metadata": {
    "collapsed": true
   },
   "outputs": [],
   "source": [
    "geheimeBotschaft = \"\"\n",
    "schluesselindex = 0\n",
    "if richtung == \"C\":\n",
    "    vorzeichen = 1\n",
    "else:\n",
    "    vorzeichen = -1\n",
    "for buchstabe in botschaft:\n",
    "    if not buchstabe in alphabet:\n",
    "        continue\n",
    "    schluessel = schluesselwort[schluesselindex]\n",
    "    schluesselindex = (schluesselindex + 1) % len(schluesselwort)\n",
    "    shift = alphabet.index(schluessel)*vorzeichen\n",
    "    index = alphabet.index(buchstabe)\n",
    "    indexNeu = (index+shift) % len(alphabet)\n",
    "    buchstabeNeu = alphabet[indexNeu]\n",
    "    geheimeBotschaft += buchstabeNeu"
   ]
  },
  {
   "cell_type": "code",
   "execution_count": null,
   "metadata": {
    "collapsed": true
   },
   "outputs": [],
   "source": [
    "print(geheimeBotschaft)"
   ]
  }
 ],
 "metadata": {
  "kernelspec": {
   "display_name": "Python 3",
   "language": "python",
   "name": "python3"
  },
  "language_info": {
   "codemirror_mode": {
    "name": "ipython",
    "version": 3
   },
   "file_extension": ".py",
   "mimetype": "text/x-python",
   "name": "python",
   "nbconvert_exporter": "python",
   "pygments_lexer": "ipython3",
   "version": "3.4.2"
  }
 },
 "nbformat": 4,
 "nbformat_minor": 2
}
