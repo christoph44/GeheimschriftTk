{
 "cells": [
  {
   "cell_type": "markdown",
   "metadata": {},
   "source": [
    "## Caesar Chiffre\n",
    "\n",
    "\n",
    "In diesem Notebook beschreiben wir die einfache Caesar-Chiffre. Wir codieren eine Botschaft durch eine Verschiebung im Alphabet. Mit unserem Partner, dem wir eine geheime Botschaft übermitteln wollen, vereinbaren wir einen gemeinsamen *Schlüssel*. Der Schlüssel ist bei der Caesar-Schiffre ein beliebiger Buchstabe im Alphabet. Nehmen wir als Beispiel den Buchstaben ***\"G\"***. \"G\" ist der 7. Buchstabe im Alphabet. In der Caesar-Schiffre verschieben wir in jeder Nachricht alle Buchstaben dann um 6 Stellen im Alphabet. Also A auf G, B auf H, C auf I, usw. Gelangen wir ans Ende des Alphabets, fangen wir wieder bei A an. Also verschieben wir z.B. den Buchstaben X auf den Buchstaben D, das Z geht auf F.\n",
    "\n",
    "In Python kann man das ganze elegant über einen String lösen.\n",
    "\n",
    "Wir definieren zunächst das Alphabet in einer Variable:\n"
   ]
  },
  {
   "cell_type": "code",
   "execution_count": 1,
   "metadata": {
    "collapsed": true
   },
   "outputs": [],
   "source": [
    "alphabet = \"ABCDEFGHIJKLMNOPQRSTUVWXYZ\""
   ]
  },
  {
   "cell_type": "markdown",
   "metadata": {},
   "source": [
    "Dann lassen wir den Benutzer die geheime Botschaft eingeben:"
   ]
  },
  {
   "cell_type": "code",
   "execution_count": 2,
   "metadata": {
    "collapsed": false
   },
   "outputs": [
    {
     "name": "stdout",
     "output_type": "stream",
     "text": [
      "Deine Botschaft: Heute ist ein schoener Tag\n"
     ]
    }
   ],
   "source": [
    "botschaft = input(\"Deine Botschaft: \")"
   ]
  },
  {
   "cell_type": "markdown",
   "metadata": {},
   "source": [
    "Da unser Alphabet nur große Buchstaben enthält, wandeln wir die Nachricht zunächst in große Buchstaben um:"
   ]
  },
  {
   "cell_type": "code",
   "execution_count": 3,
   "metadata": {
    "collapsed": false
   },
   "outputs": [
    {
     "name": "stdout",
     "output_type": "stream",
     "text": [
      "HEUTE IST EIN SCHOENER TAG\n"
     ]
    }
   ],
   "source": [
    "botschaft = botschaft.upper()\n",
    "print(botschaft)"
   ]
  },
  {
   "cell_type": "markdown",
   "metadata": {},
   "source": [
    "Jetzt fragen wir den Benutzer nach dem Schlüssel"
   ]
  },
  {
   "cell_type": "code",
   "execution_count": 4,
   "metadata": {
    "collapsed": false
   },
   "outputs": [
    {
     "name": "stdout",
     "output_type": "stream",
     "text": [
      "Dein Schlüssel (Buchstabe): G\n"
     ]
    }
   ],
   "source": [
    "schluessel = input(\"Dein Schlüssel (Buchstabe): \")"
   ]
  },
  {
   "cell_type": "code",
   "execution_count": 5,
   "metadata": {
    "collapsed": false
   },
   "outputs": [
    {
     "name": "stdout",
     "output_type": "stream",
     "text": [
      "G\n"
     ]
    }
   ],
   "source": [
    "print(schluessel)"
   ]
  },
  {
   "cell_type": "markdown",
   "metadata": {},
   "source": [
    "Für die Verschiebung brauchen wir also die Position im Alphabet. Da der Buchstabe A im Alphabet-String die Position 0 hat, ist die Position auch genau unser Verschiebungs-Wert (6). Wir nennen diesen Wert *Shift*"
   ]
  },
  {
   "cell_type": "code",
   "execution_count": 6,
   "metadata": {
    "collapsed": false
   },
   "outputs": [
    {
     "name": "stdout",
     "output_type": "stream",
     "text": [
      "A\n",
      "G\n"
     ]
    }
   ],
   "source": [
    "print(alphabet[0])\n",
    "print(alphabet[6])"
   ]
  },
  {
   "cell_type": "markdown",
   "metadata": {},
   "source": [
    "Die Position bekommen wir mit der *index* Funktion"
   ]
  },
  {
   "cell_type": "code",
   "execution_count": 7,
   "metadata": {
    "collapsed": false
   },
   "outputs": [
    {
     "name": "stdout",
     "output_type": "stream",
     "text": [
      "6\n"
     ]
    }
   ],
   "source": [
    "shift = alphabet.index(schluessel)\n",
    "print(shift)"
   ]
  },
  {
   "cell_type": "markdown",
   "metadata": {},
   "source": [
    "Jetzt codieren wir unsere Botschaft in die geheime Botschaft:"
   ]
  },
  {
   "cell_type": "code",
   "execution_count": 8,
   "metadata": {
    "collapsed": false
   },
   "outputs": [],
   "source": [
    "# Wir initialisieren unsere geheime Botschaft mit einem leeren String\n",
    "geheimeBotschaft = \"\"\n",
    "# Bearbeiten jeden Buchstaben der Botschaft\n",
    "for buchstabe in botschaft:\n",
    "    # Wenn es sich um ein Sonderzeichen (z.B. Leerzeichen) handelt, dann übernehmen wir es einfach unverändert\n",
    "    if not buchstabe in alphabet:\n",
    "        geheimeBotschaft += buchstabe\n",
    "        continue\n",
    "    # Bestimme die aktuelle Position im Alphabet\n",
    "    positionAlt = alphabet.index(buchstabe)\n",
    "    # Bestimme die neue Position und nutze die Modulo Funktion um nach der Position 26 wieder bei 0 zu beginnen\n",
    "    positionNeu = ( positionAlt + shift ) % len(alphabet)\n",
    "    # der neue Buchstabe ist dann\n",
    "    buchstabeNeu = alphabet[positionNeu]\n",
    "    # und diesen fügen wir an die geheime Botschaft an\n",
    "    geheimeBotschaft += buchstabeNeu"
   ]
  },
  {
   "cell_type": "markdown",
   "metadata": {},
   "source": [
    "Schauen wir mal, was in unserer Botschaft steht:"
   ]
  },
  {
   "cell_type": "code",
   "execution_count": 9,
   "metadata": {
    "collapsed": false
   },
   "outputs": [
    {
     "name": "stdout",
     "output_type": "stream",
     "text": [
      "HEUTE IST EIN SCHOENER TAG\n",
      "NKAZK OYZ KOT YINUKTKX ZGM\n"
     ]
    }
   ],
   "source": [
    "print(botschaft)\n",
    "print(geheimeBotschaft)"
   ]
  },
  {
   "cell_type": "markdown",
   "metadata": {},
   "source": [
    "Erkennt ihr, dass das \"A\" auf das \"G\" verschoben wurde?\n",
    "Man hätte die Sonderzeichen, also das Leerzeichen, auch weglassen können. Dann ist die Botschaft noch schwerer zu entschlüsseln."
   ]
  },
  {
   "cell_type": "markdown",
   "metadata": {},
   "source": [
    "Eine Verschlüsselung macht aber nur dann Sinn, wenn dein Partner die Nachricht wieder entschlüsseln kann. Wie macht er das? \n",
    "Er muss das Verfahren Rückwärts anwenden. Also den Shift von der Position im Alphabet abziehen. \n",
    "Versuchen wir es mal"
   ]
  },
  {
   "cell_type": "code",
   "execution_count": 10,
   "metadata": {
    "collapsed": false
   },
   "outputs": [
    {
     "name": "stdout",
     "output_type": "stream",
     "text": [
      "HEUTE IST EIN SCHOENER TAG\n"
     ]
    }
   ],
   "source": [
    "# Wir initialisieren wieder einen leeren String\n",
    "originalBotschaft = \"\"\n",
    "for buchstabe in geheimeBotschaft:\n",
    "    if not buchstabe in alphabet:\n",
    "        originalBotschaft += buchstabe\n",
    "        continue\n",
    "    # Bestimme wieder die aktuelle Position im Alphabet\n",
    "    positionAlt = alphabet.index(buchstabe)\n",
    "    # bis hierher war alles gleich. Jetzt wollen wir aber mit dem Shift zurück\n",
    "    positionNeu = ( positionAlt - shift ) % len(alphabet)\n",
    "    # der Rest ist wieder gleich...\n",
    "    buchstabeNeu = alphabet[positionNeu]\n",
    "    # und ab in die Botschaft\n",
    "    originalBotschaft += buchstabeNeu\n",
    "\n",
    "print(originalBotschaft)"
   ]
  },
  {
   "cell_type": "markdown",
   "metadata": {},
   "source": [
    "Ja, das kann wieder jeder lesen... :)"
   ]
  },
  {
   "cell_type": "code",
   "execution_count": 1,
   "metadata": {
    "collapsed": false
   },
   "outputs": [
    {
     "data": {
      "text/plain": [
       "1"
      ]
     },
     "execution_count": 1,
     "metadata": {},
     "output_type": "execute_result"
    }
   ],
   "source": [
    "6 // 4"
   ]
  },
  {
   "cell_type": "code",
   "execution_count": 2,
   "metadata": {
    "collapsed": false
   },
   "outputs": [
    {
     "data": {
      "text/plain": [
       "1.5"
      ]
     },
     "execution_count": 2,
     "metadata": {},
     "output_type": "execute_result"
    }
   ],
   "source": [
    "6/4"
   ]
  },
  {
   "cell_type": "code",
   "execution_count": 3,
   "metadata": {
    "collapsed": false
   },
   "outputs": [
    {
     "data": {
      "text/plain": [
       "2"
      ]
     },
     "execution_count": 3,
     "metadata": {},
     "output_type": "execute_result"
    }
   ],
   "source": [
    "6%4"
   ]
  },
  {
   "cell_type": "code",
   "execution_count": 4,
   "metadata": {
    "collapsed": false
   },
   "outputs": [
    {
     "data": {
      "text/plain": [
       "2"
      ]
     },
     "execution_count": 4,
     "metadata": {},
     "output_type": "execute_result"
    }
   ],
   "source": [
    "17%3"
   ]
  },
  {
   "cell_type": "code",
   "execution_count": null,
   "metadata": {
    "collapsed": true
   },
   "outputs": [],
   "source": []
  }
 ],
 "metadata": {
  "kernelspec": {
   "display_name": "Python 3",
   "language": "python",
   "name": "python3"
  },
  "language_info": {
   "codemirror_mode": {
    "name": "ipython",
    "version": 3
   },
   "file_extension": ".py",
   "mimetype": "text/x-python",
   "name": "python",
   "nbconvert_exporter": "python",
   "pygments_lexer": "ipython3",
   "version": "3.6.0"
  }
 },
 "nbformat": 4,
 "nbformat_minor": 2
}
